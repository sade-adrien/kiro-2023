{
 "cells": [
  {
   "cell_type": "code",
   "execution_count": 1,
   "metadata": {},
   "outputs": [],
   "source": [
    "import json\n",
    "\n",
    "# Assuming you have a file named 'example.json' in the same directory as your script\n",
    "file_path = 'instance_depart/small.json'\n",
    "\n",
    "# Open the file in read mode\n",
    "with open(file_path, 'r') as file:\n",
    "    # Load the JSON data from the file\n",
    "    data = json.load(file)\n"
   ]
  },
  {
   "cell_type": "code",
   "execution_count": 28,
   "metadata": {},
   "outputs": [],
   "source": [
    "class substation():\n",
    "    def __init__(self, id, land_cable_type, substation_type):\n",
    "        self.id = id\n",
    "        self.land_cable_type = land_cable_type\n",
    "        self.substation_type = substation_type\n",
    "    \n",
    "    def __str__(self):\n",
    "        return f\"{self.id=}, {self.land_cable_type=}, {self.substation_type=}\"\n",
    "\n",
    "    def __repr__(self):\n",
    "        return self.__str__()\n",
    "    \n",
    "    def to_dict(self):\n",
    "        return {'id': self.id, 'land_cable_type': self.land_cable_type, 'substation_type': self.substation_type}\n",
    "\n",
    "class substation_substation_cable():\n",
    "    def __init__(self, substation_id, other_substation_id, cable_type):\n",
    "        self.substation_id = substation_id\n",
    "        self.other_substation_id = other_substation_id\n",
    "        self.cable_type = cable_type\n",
    "\n",
    "    def __str__(self):\n",
    "        return f\"{self.substation_id=}, {self.other_substation_id=}, {self.cable_type=}\"\n",
    "\n",
    "    def __repr__(self):\n",
    "        return self.__str__()\n",
    "    \n",
    "    def to_dict(self):\n",
    "        return {'substation_id': self.substation_id, 'other_substation_id': self.other_substation_id, 'cable_type': self.cable_type}\n",
    "\n",
    "class turbine():\n",
    "    def __init__(self, id, substation_id):\n",
    "        self.id = id\n",
    "        self.substation_id = substation_id\n",
    "    \n",
    "    def __str__(self):\n",
    "        return f\"{self.id=}, {self.substation_id=}\"\n",
    "\n",
    "    def __repr__(self):\n",
    "        return self.__str__()\n",
    "    \n",
    "    def to_dict(self):\n",
    "        return {'id': self.id, 'substation_id': self.substation_id}\n",
    "\n"
   ]
  },
  {
   "cell_type": "code",
   "execution_count": 31,
   "metadata": {},
   "outputs": [
    {
     "data": {
      "text/plain": [
       "self.substation_id=0, self.other_substation_id=3, self.cable_type='r'"
      ]
     },
     "execution_count": 31,
     "metadata": {},
     "output_type": "execute_result"
    }
   ],
   "source": [
    "a =substation_substation_cables(0,3, 'r')\n",
    "a"
   ]
  }
 ],
 "metadata": {
  "kernelspec": {
   "display_name": "Python 3",
   "language": "python",
   "name": "python3"
  },
  "language_info": {
   "codemirror_mode": {
    "name": "ipython",
    "version": 3
   },
   "file_extension": ".py",
   "mimetype": "text/x-python",
   "name": "python",
   "nbconvert_exporter": "python",
   "pygments_lexer": "ipython3",
   "version": "3.8.13"
  }
 },
 "nbformat": 4,
 "nbformat_minor": 2
}
