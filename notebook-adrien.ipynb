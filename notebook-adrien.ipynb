{
 "cells": [
  {
   "cell_type": "code",
   "execution_count": 32,
   "metadata": {},
   "outputs": [],
   "source": [
    "import json\n",
    "\n",
    "# Assuming you have a file named 'example.json' in the same directory as your script\n",
    "file_path = 'instance_depart/small.json'\n",
    "\n",
    "# Open the file in read mode\n",
    "with open(file_path, 'r') as file:\n",
    "    # Load the JSON data from the file\n",
    "    data = json.load(file)\n"
   ]
  },
  {
   "cell_type": "code",
   "execution_count": 34,
   "metadata": {},
   "outputs": [],
   "source": [
    "def get_power_w(data):\n",
    "    n_turbines = len(data['wind_turbines'])\n",
    "    unit_power = 0\n",
    "    for scenario in data['wind_scenarios']:\n",
    "        unit_power = max(unit_power, scenario['power_generation'])\n",
    "    \n",
    "    return n_turbines * unit_power"
   ]
  },
  {
   "cell_type": "code",
   "execution_count": 35,
   "metadata": {},
   "outputs": [
    {
     "data": {
      "text/plain": [
       "1350.0"
      ]
     },
     "execution_count": 35,
     "metadata": {},
     "output_type": "execute_result"
    }
   ],
   "source": [
    "get_power_w(data)"
   ]
  },
  {
   "cell_type": "code",
   "execution_count": 15,
   "metadata": {},
   "outputs": [],
   "source": [
    "class substation():\n",
    "    def __init__(self, id, land_cable_type, substation_type):\n",
    "        self.id = id\n",
    "        self.land_cable_type = land_cable_type\n",
    "        self.substation_type = substation_type\n",
    "    \n",
    "    def __str__(self):\n",
    "        return f\"{self.id=}, {self.land_cable_type=}, {self.substation_type=}\"\n",
    "\n",
    "    def __repr__(self):\n",
    "        return self.__str__()\n",
    "\n",
    "class substation_substation_cable():\n",
    "    def __init__(self, substation_id, other_substation_id, cable_type):\n",
    "        self.substation_id = substation_id\n",
    "        self.other_substation_id = other_substation_id\n",
    "        self.cable_type = cable_type\n",
    "\n",
    "    def __str__(self):\n",
    "        return f\"{self.substation_id=}, {self.other_substation_id=}, {self.cable_type=}\"\n",
    "\n",
    "    def __repr__(self):\n",
    "        return self.__str__()\n",
    "\n",
    "class turbine():\n",
    "    def __init__(self, id, substation_id):\n",
    "        self.id = id\n",
    "        self.substation_id = substation_id\n",
    "    \n",
    "    def __str__(self):\n",
    "        return f\"{self.id=}, {self.substation_id=}\"\n",
    "\n",
    "    def __repr__(self):\n",
    "        return self.__str__()\n",
    "    \n",
    "    def to_dict(self):\n",
    "        return {'id': self.id, 'substation_id': self.substation_id}\n",
    "\n",
    "class parser_out():\n",
    "    def __init__(self, instance_name, substations, substation_substation_cables, turbines):\n",
    "        self.instance_name = instance_name\n",
    "        self.folder_out = \"instance_arrive/\"\n",
    "        self.substations = substations\n",
    "        self.substation_substation_cables = substation_substation_cables\n",
    "        self.turbines = turbines\n",
    "    \n",
    "    def create_json(self):\n",
    "        dict_out = {\n",
    "            \"substation\": self.substations,\n",
    "            \"substation_substation_cables\": self.substation_substation_cables,\n",
    "            \"turbines\": self.turbines\n",
    "            }\n",
    "\n",
    "        with open(f\"{self.folder_out}/{self.instance_name}_out.json\", \"w+\") as f:\n",
    "            json.dump(dict_out, f)\n",
    "\n",
    "\n",
    "def distance(substation1, substation2):\n",
    "    #distance squared\n",
    "    return (substation2['x'] - substation1['x'])**2 + (substation2['y'] - substation1['y'])**2\n",
    "\n",
    "def get_substation(id, substation_list):\n",
    "    for substation in substation_list:\n",
    "        if substation['id'] == id:\n",
    "            return substation\n",
    "    raise ValueError(f\"substation {id} not found\")\n",
    "\n"
   ]
  },
  {
   "cell_type": "code",
   "execution_count": 22,
   "metadata": {},
   "outputs": [],
   "source": [
    "\n",
    "def turbines_sol(data):\n",
    "    turbines_sol = []\n",
    "    for t in data['wind_turbines']:\n",
    "        turbines_sol.append(turbine(id=t['id'],\n",
    "                                    substation_id=1).to_dict())\n",
    "    return turbines_sol"
   ]
  },
  {
   "cell_type": "code",
   "execution_count": null,
   "metadata": {},
   "outputs": [],
   "source": [
    "for t in data['wind_turbines']:\n",
    "    print(t)"
   ]
  },
  {
   "cell_type": "code",
   "execution_count": 23,
   "metadata": {},
   "outputs": [
    {
     "name": "stdout",
     "output_type": "stream",
     "text": [
      "[{'id': 1, 'substation_id': 1}, {'id': 2, 'substation_id': 1}, {'id': 3, 'substation_id': 1}, {'id': 4, 'substation_id': 1}, {'id': 5, 'substation_id': 1}, {'id': 6, 'substation_id': 1}, {'id': 7, 'substation_id': 1}, {'id': 8, 'substation_id': 1}, {'id': 9, 'substation_id': 1}, {'id': 10, 'substation_id': 1}, {'id': 11, 'substation_id': 1}, {'id': 12, 'substation_id': 1}, {'id': 13, 'substation_id': 1}, {'id': 14, 'substation_id': 1}, {'id': 15, 'substation_id': 1}, {'id': 16, 'substation_id': 1}, {'id': 17, 'substation_id': 1}, {'id': 18, 'substation_id': 1}, {'id': 19, 'substation_id': 1}, {'id': 20, 'substation_id': 1}, {'id': 21, 'substation_id': 1}, {'id': 22, 'substation_id': 1}, {'id': 23, 'substation_id': 1}, {'id': 24, 'substation_id': 1}, {'id': 25, 'substation_id': 1}, {'id': 26, 'substation_id': 1}, {'id': 27, 'substation_id': 1}, {'id': 28, 'substation_id': 1}, {'id': 29, 'substation_id': 1}, {'id': 30, 'substation_id': 1}, {'id': 31, 'substation_id': 1}, {'id': 32, 'substation_id': 1}, {'id': 33, 'substation_id': 1}, {'id': 34, 'substation_id': 1}, {'id': 35, 'substation_id': 1}, {'id': 36, 'substation_id': 1}, {'id': 37, 'substation_id': 1}, {'id': 38, 'substation_id': 1}, {'id': 39, 'substation_id': 1}, {'id': 40, 'substation_id': 1}, {'id': 41, 'substation_id': 1}, {'id': 42, 'substation_id': 1}, {'id': 43, 'substation_id': 1}, {'id': 44, 'substation_id': 1}, {'id': 45, 'substation_id': 1}, {'id': 46, 'substation_id': 1}, {'id': 47, 'substation_id': 1}, {'id': 48, 'substation_id': 1}, {'id': 49, 'substation_id': 1}, {'id': 50, 'substation_id': 1}, {'id': 51, 'substation_id': 1}, {'id': 52, 'substation_id': 1}, {'id': 53, 'substation_id': 1}, {'id': 54, 'substation_id': 1}, {'id': 55, 'substation_id': 1}, {'id': 56, 'substation_id': 1}, {'id': 57, 'substation_id': 1}, {'id': 58, 'substation_id': 1}, {'id': 59, 'substation_id': 1}, {'id': 60, 'substation_id': 1}, {'id': 61, 'substation_id': 1}, {'id': 62, 'substation_id': 1}, {'id': 63, 'substation_id': 1}, {'id': 64, 'substation_id': 1}, {'id': 65, 'substation_id': 1}, {'id': 66, 'substation_id': 1}, {'id': 67, 'substation_id': 1}, {'id': 68, 'substation_id': 1}, {'id': 69, 'substation_id': 1}, {'id': 70, 'substation_id': 1}, {'id': 71, 'substation_id': 1}, {'id': 72, 'substation_id': 1}, {'id': 73, 'substation_id': 1}, {'id': 74, 'substation_id': 1}, {'id': 75, 'substation_id': 1}]\n"
     ]
    }
   ],
   "source": [
    "print(turbines_sol(data))"
   ]
  }
 ],
 "metadata": {
  "kernelspec": {
   "display_name": "Python 3",
   "language": "python",
   "name": "python3"
  },
  "language_info": {
   "codemirror_mode": {
    "name": "ipython",
    "version": 3
   },
   "file_extension": ".py",
   "mimetype": "text/x-python",
   "name": "python",
   "nbconvert_exporter": "python",
   "pygments_lexer": "ipython3",
   "version": "3.8.13"
  }
 },
 "nbformat": 4,
 "nbformat_minor": 2
}
